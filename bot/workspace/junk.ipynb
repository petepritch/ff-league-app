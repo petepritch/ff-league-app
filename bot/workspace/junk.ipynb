{
 "cells": [
  {
   "cell_type": "code",
   "execution_count": 95,
   "metadata": {},
   "outputs": [],
   "source": [
    "import os\n",
    "import json\n",
    "from typing import Final\n",
    "from yfpy.query import YahooFantasySportsQuery\n",
    "from dotenv import load_dotenv\n",
    "import pandas as pd\n",
    "import uuid\n",
    "\n",
    "auth_dir = \"/Users/petepritchard/Documents/Projects/ff-league-app/bot/auth\"\n",
    "\n",
    "# Load environment variables from .env file\n",
    "load_dotenv()\n",
    "\n",
    "# Fetch Yahoo API credentials from environment variables\n",
    "CONSUMER_KEY: Final[str] = os.getenv('CONSUMER_KEY')\n",
    "CONSUMER_SECRET: Final[str] = os.getenv('CONSUMER_SECRET')\n",
    "REFRESH_TOKEN: Final[str] = os.getenv('REFRESH_TOKEN')\n",
    "\n",
    "# Fetch league information\n",
    "query = YahooFantasySportsQuery(\n",
    "    auth_dir, \n",
    "    league_id='49754', # Fill in league_id\n",
    "    game_code='nfl',   # Leave this as is\n",
    "    game_id='423',     # Fill in current game id\n",
    "    consumer_key=CONSUMER_KEY,\n",
    "    consumer_secret=CONSUMER_SECRET,\n",
    "    )"
   ]
  },
  {
   "cell_type": "code",
   "execution_count": 27,
   "metadata": {},
   "outputs": [],
   "source": [
    "transactions = query.get_league_transactions()\n",
    "recent_transaction = transactions[1].to_json()\n",
    "data = json.loads(recent_transaction)\n",
    "\n",
    "# Retrieving the values\n",
    "player_id = data['players']['player']['player_id']\n",
    "destination_team_key = data['players']['player']['transaction_data']['destination_team_key']\n",
    "transaction_type = data['players']['player']['transaction_data']['type']\n",
    "\n",
    "# Printing the retrieved values\n",
    "print(\"Player ID:\", player_id)\n",
    "print(\"Destination Team Key:\", destination_team_key)\n",
    "print(\"Transaction Type:\", transaction_type)"
   ]
  },
  {
   "cell_type": "markdown",
   "metadata": {},
   "source": [
    "## Pulling data from Yahoo for Matchups Table"
   ]
  },
  {
   "cell_type": "code",
   "execution_count": 71,
   "metadata": {},
   "outputs": [
    {
     "name": "stdout",
     "output_type": "stream",
     "text": [
      "                            primary_key                            matchup_id  \\\n",
      "0  423bb7d1-1c33-4b36-b457-156a7124b87e  6dbf59fa-4e35-4170-adab-1527a3f11f19   \n",
      "1  78de06a1-d6be-466d-b0e0-ce97fae9677e  6dbf59fa-4e35-4170-adab-1527a3f11f19   \n",
      "2  943c5aff-a0c8-4d92-aae1-ae69045ac7b6  aed76cc7-3954-4bd5-afcf-6ce4601b3827   \n",
      "3  b0e3b5c7-8b64-480e-aaea-3d176c9f89bf  aed76cc7-3954-4bd5-afcf-6ce4601b3827   \n",
      "4  f6f1900c-20c9-4615-b75f-5f5a421ef108  618208f4-129d-40ad-9ed0-c9f30c153b8a   \n",
      "\n",
      "  season_key  week  is_consolation  is_playoffs  is_tied  winner_team_key  \\\n",
      "0        423     1               0            0        0  423.l.49754.t.7   \n",
      "1        423     1               0            0        0  423.l.49754.t.7   \n",
      "2        423     1               0            0        0  423.l.49754.t.2   \n",
      "3        423     1               0            0        0  423.l.49754.t.2   \n",
      "4        423     1               0            0        0  423.l.49754.t.3   \n",
      "\n",
      "          team_key  team_total_points  team_projected_points  \n",
      "0  423.l.49754.t.1              85.92                 111.36  \n",
      "1  423.l.49754.t.7              97.00                 107.88  \n",
      "2  423.l.49754.t.2             121.68                 116.17  \n",
      "3  423.l.49754.t.8             102.37                 117.43  \n",
      "4  423.l.49754.t.3             129.64                 106.63  \n"
     ]
    }
   ],
   "source": [
    "# Initialize an empty list to store records\n",
    "records = []\n",
    "\n",
    "for i in range(1, 3):\n",
    "    # Query data from yahoo\n",
    "    matchups = query.get_league_matchups_by_week(i)\n",
    "    # Loop through matchup data\n",
    "    for i in range(len(matchups)):\n",
    "        matchup = matchups[i].to_json() # matchup[i] is a yfpy object\n",
    "        matchup_dict = json.loads(matchup)\n",
    "        \n",
    "        # Generate a unique matchup_id (UUID)\n",
    "        matchup_id = str(uuid.uuid4())\n",
    "\n",
    "        # Extract information for each team in the matchup\n",
    "        for team in matchup_dict.get('teams', []):\n",
    "            team_info = team.get('team', {})\n",
    "            record = {\n",
    "                'primary_key': str(uuid.uuid4()),  # Unique primary key for each row\n",
    "                'matchup_id': matchup_id,\n",
    "                'season_key': team_info.get('team_key')[:3], # First 3 characters in team key\n",
    "                'week': matchup_dict.get('week'),\n",
    "                'is_consolation': matchup_dict.get('is_consolation'),\n",
    "                'is_playoffs': matchup_dict.get('is_playoffs'),\n",
    "                'is_tied': matchup_dict.get('is_tied'),\n",
    "                'winner_team_key': matchup_dict.get('winner_team_key'),\n",
    "                'team_key': team_info.get('team_key'),\n",
    "                'team_total_points': team_info.get('team_points', {}).get('total'),\n",
    "                'team_projected_points': team_info.get('team_projected_points', {}).get('total')\n",
    "            }\n",
    "            \n",
    "            # Add the record to the list\n",
    "            records.append(record)\n",
    "\n",
    "# Convert the list of records to a DataFrame\n",
    "df = pd.DataFrame(records)\n",
    "\n",
    "# Display the DataFrame\n",
    "print(df.head())"
   ]
  },
  {
   "cell_type": "code",
   "execution_count": 69,
   "metadata": {},
   "outputs": [],
   "source": [
    "df.to_clipboard()"
   ]
  },
  {
   "cell_type": "code",
   "execution_count": null,
   "metadata": {},
   "outputs": [],
   "source": [
    "matchups_table = \"\"\"\n",
    "CREATE TABLE Matchups (\n",
    "    primary_key INT AUTO_INCREMENT PRIMARY KEY,\n",
    "    matchup_id INT,\n",
    "    season_key INT NOT NULL,\n",
    "    week INT NOT NULL,\n",
    "    is_consolation BOOLEAN,\n",
    "    is_playoffs BOOLEAN,\n",
    "    is_tied BOOLEAN,\n",
    "    winner_team_key VARCHAR(50),\n",
    "    team_key VARCHAR(50),\n",
    "    team_total_points INT,\n",
    "    team_projected_points INT,\n",
    "    UNIQUE(season, week, winner_team_key) -- Ensuring unique combination of season, week, and winner team\n",
    ");\n",
    "\"\"\""
   ]
  },
  {
   "cell_type": "markdown",
   "metadata": {},
   "source": [
    "## Seasons Table"
   ]
  },
  {
   "cell_type": "code",
   "execution_count": 94,
   "metadata": {},
   "outputs": [
    {
     "data": {
      "text/html": [
       "<div>\n",
       "<style scoped>\n",
       "    .dataframe tbody tr th:only-of-type {\n",
       "        vertical-align: middle;\n",
       "    }\n",
       "\n",
       "    .dataframe tbody tr th {\n",
       "        vertical-align: top;\n",
       "    }\n",
       "\n",
       "    .dataframe thead th {\n",
       "        text-align: right;\n",
       "    }\n",
       "</style>\n",
       "<table border=\"1\" class=\"dataframe\">\n",
       "  <thead>\n",
       "    <tr style=\"text-align: right;\">\n",
       "      <th></th>\n",
       "      <th>season_key</th>\n",
       "      <th>season</th>\n",
       "    </tr>\n",
       "  </thead>\n",
       "  <tbody>\n",
       "    <tr>\n",
       "      <th>0</th>\n",
       "      <td>257</td>\n",
       "      <td>2011</td>\n",
       "    </tr>\n",
       "    <tr>\n",
       "      <th>1</th>\n",
       "      <td>273</td>\n",
       "      <td>2012</td>\n",
       "    </tr>\n",
       "    <tr>\n",
       "      <th>2</th>\n",
       "      <td>314</td>\n",
       "      <td>2013</td>\n",
       "    </tr>\n",
       "    <tr>\n",
       "      <th>3</th>\n",
       "      <td>331</td>\n",
       "      <td>2014</td>\n",
       "    </tr>\n",
       "    <tr>\n",
       "      <th>4</th>\n",
       "      <td>348</td>\n",
       "      <td>2015</td>\n",
       "    </tr>\n",
       "  </tbody>\n",
       "</table>\n",
       "</div>"
      ],
      "text/plain": [
       "  season_key season\n",
       "0        257   2011\n",
       "1        273   2012\n",
       "2        314   2013\n",
       "3        331   2014\n",
       "4        348   2015"
      ]
     },
     "execution_count": 94,
     "metadata": {},
     "output_type": "execute_result"
    }
   ],
   "source": [
    "seasons_dict = {\n",
    "    \"season_key\": ['257', '273', '314', '331', '348', '259', '317', '380', '380', '399', '406', '414', '423', '449'],\n",
    "    \"season\": ['2011', '2012', '2013', '2014', '2015', '2016', '2017', '2018', '2019', '2020', '2021', '2022', '2023', '2024'],\n",
    "}\n",
    "\n",
    "df_seasons = pd.DataFrame(seasons_dict)\n",
    "df_seasons.head()"
   ]
  },
  {
   "cell_type": "code",
   "execution_count": null,
   "metadata": {},
   "outputs": [],
   "source": [
    "seasons_table = \"\"\"\n",
    "CREATE TABLES Seasons (\n",
    "    season_key INT PRIMARY KEY,\n",
    "    season INT\n",
    "    UNIQUE(season_key, season) -- Ensuring unique combination of season and season_key\n",
    ");\n",
    "\"\"\""
   ]
  },
  {
   "cell_type": "markdown",
   "metadata": {},
   "source": [
    "## Drafts Table"
   ]
  },
  {
   "cell_type": "code",
   "execution_count": 99,
   "metadata": {},
   "outputs": [
    {
     "name": "stdout",
     "output_type": "stream",
     "text": [
      "<class 'yfpy.models.DraftResult'>\n"
     ]
    }
   ],
   "source": [
    "draft = query.get_league_draft_results()\n",
    "print(type(draft[1]))"
   ]
  },
  {
   "cell_type": "code",
   "execution_count": 100,
   "metadata": {},
   "outputs": [
    {
     "name": "stdout",
     "output_type": "stream",
     "text": [
      "DraftResult({\n",
      "  \"pick\": 2,\n",
      "  \"round\": 1,\n",
      "  \"team_key\": \"423.l.49754.t.6\",\n",
      "  \"player_key\": \"423.p.33393\"\n",
      "})\n"
     ]
    }
   ],
   "source": [
    "print(draft[1])"
   ]
  },
  {
   "cell_type": "code",
   "execution_count": null,
   "metadata": {},
   "outputs": [],
   "source": []
  }
 ],
 "metadata": {
  "kernelspec": {
   "display_name": "venv",
   "language": "python",
   "name": "python3"
  },
  "language_info": {
   "codemirror_mode": {
    "name": "ipython",
    "version": 3
   },
   "file_extension": ".py",
   "mimetype": "text/x-python",
   "name": "python",
   "nbconvert_exporter": "python",
   "pygments_lexer": "ipython3",
   "version": "3.9.6"
  }
 },
 "nbformat": 4,
 "nbformat_minor": 2
}
